{
 "cells": [
  {
   "cell_type": "code",
   "execution_count": null,
   "id": "63d6ff17-df88-49c6-9154-b5df8cb9a4da",
   "metadata": {
    "tags": []
   },
   "outputs": [],
   "source": [
    "from ultralytics import YOLO\n",
    "import os\n",
    "import yaml\n",
    "import boto3"
   ]
  },
  {
   "cell_type": "code",
   "execution_count": null,
   "id": "204b15cf-259a-404d-8ce4-6d64ef165cb9",
   "metadata": {},
   "outputs": [],
   "source": [
    "! tar -xzf dataset-full.tar.gz"
   ]
  },
  {
   "cell_type": "code",
   "execution_count": null,
   "id": "d6835f90-1c86-4dbc-90bf-07bab94eba4e",
   "metadata": {
    "tags": []
   },
   "outputs": [],
   "source": [
    "EPOCHS=int(os.environ.get(\"epochs\", 1))\n",
    "IMGSZ=640\n",
    "DATA_CONFIG_PATH = \"utils/data.yaml\"\n",
    "LABEL_NAME = os.environ.get(\"label_name\", \"mylabel\")\n",
    "\n",
    "EXPORT_BUCKET = \"model-zoo\"\n",
    "MODEL_PATH = \"models/model.onnx\"\n",
    "\n",
    "AWS_ACCESS_KEY_ID = os.environ.get(\"AWS_ACCESS_KEY_ID\")\n",
    "AWS_SECRET_ACCESS_KEY = os.environ.get(\"AWS_SECRET_ACCESS_KEY\")\n",
    "AWS_S3_BUCKET = os.environ.get(\"AWS_S3_BUCKET\")\n",
    "AWS_S3_ENDPOINT = os.environ.get(\"AWS_S3_ENDPOINT\")"
   ]
  },
  {
   "cell_type": "code",
   "execution_count": null,
   "id": "6e89c039-6f92-4b13-9532-216c78e0f75f",
   "metadata": {},
   "outputs": [],
   "source": [
    "with open(DATA_CONFIG_PATH, 'r') as f:\n",
    "    data_config = yaml.safe_load(f)\n",
    "data_config['names'][0] = LABEL_NAME\n",
    "with open(DATA_CONFIG_PATH, 'w') as f:\n",
    "    data_config = yaml.dump(data_config, f)"
   ]
  },
  {
   "cell_type": "code",
   "execution_count": null,
   "id": "f7e62785-8eee-449c-aa23-53195b6aead4",
   "metadata": {},
   "outputs": [],
   "source": [
    "! ls"
   ]
  },
  {
   "cell_type": "code",
   "execution_count": null,
   "id": "ba06a36f-66ac-467d-88c6-9b880819350a",
   "metadata": {
    "tags": []
   },
   "outputs": [],
   "source": [
    "model = YOLO('yolov8n.pt')\n",
    "results = model.train(data=DATA_CONFIG_PATH, epochs=EPOCHS, imgsz=IMGSZ)"
   ]
  },
  {
   "cell_type": "code",
   "execution_count": null,
   "id": "f9065960-1525-424d-abbb-c11392679ae5",
   "metadata": {
    "tags": []
   },
   "outputs": [],
   "source": [
    "model = YOLO('runs/detect/train/weights/best.pt')"
   ]
  },
  {
   "cell_type": "code",
   "execution_count": null,
   "id": "1daeaa15-1c8e-4406-89e9-7aed074184f1",
   "metadata": {
    "tags": []
   },
   "outputs": [],
   "source": [
    "model.export(format=\"onnx\")"
   ]
  },
  {
   "cell_type": "code",
   "execution_count": null,
   "id": "3e4aa279-2d5d-432f-bde3-02bb894f8bd3",
   "metadata": {
    "tags": []
   },
   "outputs": [],
   "source": [
    "model_path = \"runs/detect/train/weights/best.onnx\""
   ]
  },
  {
   "cell_type": "code",
   "execution_count": null,
   "id": "cd2dd2a8-df0a-4cb8-8963-342b7053ce34",
   "metadata": {
    "tags": []
   },
   "outputs": [],
   "source": [
    "session = boto3.Session(\n",
    "    aws_access_key_id=AWS_ACCESS_KEY_ID,\n",
    "    aws_secret_access_key=AWS_SECRET_ACCESS_KEY\n",
    ")\n",
    "client = session.client(\"s3\", endpoint_url=AWS_S3_ENDPOINT)"
   ]
  },
  {
   "cell_type": "code",
   "execution_count": null,
   "id": "5a2b783a-da22-4842-a942-5a25b89fb3c5",
   "metadata": {
    "tags": []
   },
   "outputs": [],
   "source": [
    "client.upload_file(model_path, EXPORT_BUCKET, MODEL_PATH)"
   ]
  }
 ],
 "metadata": {
  "kernelspec": {
   "display_name": "Python 3.9",
   "language": "python",
   "name": "python3"
  },
  "language_info": {
   "codemirror_mode": {
    "name": "ipython",
    "version": 3
   },
   "file_extension": ".py",
   "mimetype": "text/x-python",
   "name": "python",
   "nbconvert_exporter": "python",
   "pygments_lexer": "ipython3",
   "version": "3.9.16"
  }
 },
 "nbformat": 4,
 "nbformat_minor": 5
}
