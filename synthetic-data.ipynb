{
 "cells": [
  {
   "cell_type": "code",
   "execution_count": 1,
   "id": "5d54d2f9-ee15-4a0d-9015-2a59345aebd8",
   "metadata": {},
   "outputs": [],
   "source": [
    "! tar -xzf dataset.tar.gz"
   ]
  },
  {
   "cell_type": "code",
   "execution_count": 2,
   "id": "c008b18f-8936-44c1-8b13-1cd191042ad3",
   "metadata": {
    "tags": []
   },
   "outputs": [],
   "source": [
    "import boto3\n",
    "import os\n",
    "import json\n",
    "import cv2\n",
    "import numpy as np\n",
    "import yaml"
   ]
  },
  {
   "cell_type": "code",
   "execution_count": 3,
   "id": "4b254be2-856a-4396-bc30-c59dbb2e4dc1",
   "metadata": {
    "tags": []
   },
   "outputs": [],
   "source": [
    "from utils import utils"
   ]
  },
  {
   "cell_type": "code",
   "execution_count": 4,
   "id": "dd19cafb-be9c-4bf5-8f99-543a9b7a1e55",
   "metadata": {
    "tags": []
   },
   "outputs": [],
   "source": [
    "AWS_ACCESS_KEY_ID = os.environ.get(\"AWS_ACCESS_KEY_ID\")\n",
    "AWS_SECRET_ACCESS_KEY = os.environ.get(\"AWS_SECRET_ACCESS_KEY\")\n",
    "AWS_S3_BUCKET = os.environ.get(\"AWS_S3_BUCKET\")\n",
    "AWS_S3_ENDPOINT = os.environ.get(\"AWS_S3_ENDPOINT\")\n",
    "\n",
    "TARGET_BUCKET_NAME = \"label-studio-sink\"\n",
    "\n",
    "TMP_LABEL = \"/tmp/ls-label.txt\"\n",
    "UTILS_DIR_PATH = \"utils/\"\n",
    "LABELS_INFO = UTILS_DIR_PATH + \"labels.json\"\n",
    "DATASET_PATH = \"dataset/\"\n",
    "DATA_CONFIG_PATH = \"utils/data.yaml\"\n",
    "\n",
    "NB_FRAMES_PER_VIDEO = 20\n",
    "\n",
    "session = boto3.Session(\n",
    "    aws_access_key_id=AWS_ACCESS_KEY_ID,\n",
    "    aws_secret_access_key=AWS_SECRET_ACCESS_KEY\n",
    ")\n",
    "client = session.client(\"s3\", endpoint_url=AWS_S3_ENDPOINT)"
   ]
  },
  {
   "cell_type": "code",
   "execution_count": 5,
   "id": "9a34491c-8138-4c6c-a029-d65394c28274",
   "metadata": {
    "tags": []
   },
   "outputs": [],
   "source": [
    "def generate_dirs():\n",
    "    os.makedirs(DATASET_PATH, exist_ok = True)\n",
    "    os.makedirs(DATASET_PATH + \"labels/train\", exist_ok = True)\n",
    "    os.makedirs(DATASET_PATH + \"labels/test\", exist_ok = True)\n",
    "    os.makedirs(DATASET_PATH + \"labels/val\", exist_ok = True)\n",
    "    os.makedirs(DATASET_PATH + \"images/train\", exist_ok = True)\n",
    "    os.makedirs(DATASET_PATH + \"images/test\", exist_ok = True)\n",
    "    os.makedirs(DATASET_PATH + \"images/val\", exist_ok = True)"
   ]
  },
  {
   "cell_type": "code",
   "execution_count": 6,
   "id": "ad46bc48-dee1-4c3d-8349-12cfda3039b2",
   "metadata": {
    "tags": []
   },
   "outputs": [],
   "source": [
    "generate_dirs()\n",
    "with open(LABELS_INFO) as f:\n",
    "    label_info = json.load(f)\n",
    "\n",
    "video_path = UTILS_DIR_PATH + \"video/video1.mp4\"\n",
    "random_frames = utils.extract_random_frames(video_path, NB_FRAMES_PER_VIDEO)\n",
    "nb_frames = len(random_frames)\n",
    "# Cut frames and insert image\n",
    "for i, frame in enumerate(random_frames):\n",
    "    # Insert image onto frame\n",
    "    frame_height, frame_width, _ = frame.shape\n",
    "    for label in label_info.keys():\n",
    "        label_id = label_info[label][\"label_id\"]\n",
    "        for traffic_sign_info in label_info[label][\"children\"].values():\n",
    "            image_path = UTILS_DIR_PATH + traffic_sign_info[\"path\"]\n",
    "            bbox_size = (int(traffic_sign_info[\"bbox_w\"]), int(traffic_sign_info[\"bbox_h\"]))\n",
    "            inserted_image = cv2.imread(image_path, cv2.IMREAD_UNCHANGED)\n",
    "            if inserted_image is None:\n",
    "                raise Exception(\"Error: Couldn't load the inserted image file.\")\n",
    "            frame_copy = frame.copy()\n",
    "            frame_copy, coordinates = utils.insert_image(frame_copy, inserted_image, frame_width, frame_height, bbox_size)\n",
    "\n",
    "            # Save labels and images in yolo format\n",
    "            yolo_format = utils.to_yolo_format(frame_width, frame_height, coordinates)\n",
    "            split = utils.determine_split(i, nb_frames)\n",
    "            utils.add_to_yolo_dataset(frame_copy, split, label_id, label, yolo_format, DATASET_PATH)"
   ]
  },
  {
   "cell_type": "code",
   "execution_count": 7,
   "id": "cfdaf4c2-6337-4018-8a7b-e3e76367592b",
   "metadata": {
    "tags": []
   },
   "outputs": [],
   "source": [
    "! tar -czf dataset-full.tar.gz dataset"
   ]
  }
 ],
 "metadata": {
  "kernelspec": {
   "display_name": "Python 3.9",
   "language": "python",
   "name": "python3"
  },
  "language_info": {
   "codemirror_mode": {
    "name": "ipython",
    "version": 3
   },
   "file_extension": ".py",
   "mimetype": "text/x-python",
   "name": "python",
   "nbconvert_exporter": "python",
   "pygments_lexer": "ipython3",
   "version": "3.9.16"
  }
 },
 "nbformat": 4,
 "nbformat_minor": 5
}
