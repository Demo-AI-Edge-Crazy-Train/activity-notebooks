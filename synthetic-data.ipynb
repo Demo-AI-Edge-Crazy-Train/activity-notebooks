{
 "cells": [
  {
   "cell_type": "code",
   "execution_count": null,
   "id": "c008b18f-8936-44c1-8b13-1cd191042ad3",
   "metadata": {
    "tags": []
   },
   "outputs": [],
   "source": [
    "import boto3\n",
    "import os\n",
    "import json\n",
    "import cv2\n",
    "import numpy as np"
   ]
  },
  {
   "cell_type": "code",
   "execution_count": null,
   "id": "4b254be2-856a-4396-bc30-c59dbb2e4dc1",
   "metadata": {},
   "outputs": [],
   "source": [
    "from utils import utils"
   ]
  },
  {
   "cell_type": "code",
   "execution_count": null,
   "id": "dd19cafb-be9c-4bf5-8f99-543a9b7a1e55",
   "metadata": {
    "tags": []
   },
   "outputs": [],
   "source": [
    "AWS_ACCESS_KEY_ID = os.environ.get(\"AWS_ACCESS_KEY_ID\")\n",
    "AWS_SECRET_ACCESS_KEY = os.environ.get(\"AWS_SECRET_ACCESS_KEY\")\n",
    "AWS_S3_BUCKET = os.environ.get(\"AWS_S3_BUCKET\")\n",
    "AWS_S3_ENDPOINT = os.environ.get(\"AWS_S3_ENDPOINT\")\n",
    "\n",
    "TARGET_BUCKET_NAME = \"label-studio-sink\"\n",
    "\n",
    "TMP_LABEL = \"/tmp/ls-label.txt\"\n",
    "UTILS_DIR_PATH = \"utils/\"\n",
    "LABELS_INFO = UTILS_DIR_PATH + \"labels.json\"\n",
    "DATASET_PATH = \"dataset/\"\n",
    "\n",
    "NB_FRAMES_PER_VIDEO = 20\n",
    "\n",
    "session = boto3.Session(\n",
    "    aws_access_key_id=AWS_ACCESS_KEY_ID,\n",
    "    aws_secret_access_key=AWS_SECRET_ACCESS_KEY\n",
    ")\n",
    "client = session.client(\"s3\", endpoint_url=AWS_S3_ENDPOINT)"
   ]
  },
  {
   "cell_type": "code",
   "execution_count": null,
   "id": "9a34491c-8138-4c6c-a029-d65394c28274",
   "metadata": {
    "tags": []
   },
   "outputs": [],
   "source": [
    "def generate_dirs():\n",
    "    os.makedirs(DATASET_PATH, exist_ok = True)\n",
    "    os.makedirs(DATASET_PATH + \"labels/train\", exist_ok = True)\n",
    "    os.makedirs(DATASET_PATH + \"labels/test\", exist_ok = True)\n",
    "    os.makedirs(DATASET_PATH + \"labels/val\", exist_ok = True)\n",
    "    os.makedirs(DATASET_PATH + \"images/train\", exist_ok = True)\n",
    "    os.makedirs(DATASET_PATH + \"images/test\", exist_ok = True)\n",
    "    os.makedirs(DATASET_PATH + \"images/val\", exist_ok = True)"
   ]
  },
  {
   "cell_type": "code",
   "execution_count": null,
   "id": "80ef4fd1-680a-438b-8dc6-b966b5df8a7e",
   "metadata": {
    "tags": []
   },
   "outputs": [],
   "source": [
    "def download_whatever_annotation(bucket_name):\n",
    "    paginator = client.get_paginator('list_objects_v2')\n",
    "    operation_parameters = {'Bucket': bucket_name}\n",
    "    page_iterator = paginator.paginate(**operation_parameters)\n",
    "    page = page_iterator\n",
    "    for page in page_iterator:\n",
    "        if 'Contents' in page:\n",
    "            for obj in page['Contents']:\n",
    "                key = obj['Key']\n",
    "                client.download_file(bucket_name, key, TMP_LABEL)\n",
    "                break\n",
    "            break"
   ]
  },
  {
   "cell_type": "code",
   "execution_count": null,
   "id": "d7409a27-118e-4d7a-a902-1a3047f5e036",
   "metadata": {
    "tags": []
   },
   "outputs": [],
   "source": [
    "download_whatever_annotation(TARGET_BUCKET_NAME)"
   ]
  },
  {
   "cell_type": "code",
   "execution_count": null,
   "id": "21e8a826-a0c6-48b2-8f5e-d15c9c1fd750",
   "metadata": {
    "tags": []
   },
   "outputs": [],
   "source": [
    "generate_dirs()\n",
    "with open(TMP_LABEL) as f:\n",
    "    payload = json.load(f)\n",
    "with open(LABELS_INFO) as f:\n",
    "    label_info = json.load(f)\n",
    "label = payload['result'][0]['value']['rectanglelabels'][0]\n",
    "label_accepted = label in label_info.keys()\n",
    "if not label_accepted:\n",
    "    raise Exception(f\"Label {label} not found in {list(label_info.keys())}\")\n",
    "image_path = UTILS_DIR_PATH + label_info[label][\"path\"]\n",
    "bbox_size = (int(label_info[label][\"bbox_w\"]), int(label_info[label][\"bbox_h\"]))\n",
    "label_id = 0 # One class only\n",
    "inserted_image = cv2.imread(image_path, cv2.IMREAD_UNCHANGED)\n",
    "if inserted_image is None:\n",
    "    raise Exception(\"Error: Couldn't load the inserted image file.\")\n",
    "video_path = UTILS_DIR_PATH + \"video/video1.mp4\""
   ]
  },
  {
   "cell_type": "code",
   "execution_count": null,
   "id": "ad46bc48-dee1-4c3d-8349-12cfda3039b2",
   "metadata": {
    "tags": []
   },
   "outputs": [],
   "source": [
    "random_frames = utils.extract_random_frames(video_path, NB_FRAMES_PER_VIDEO)\n",
    "nb_frames = len(random_frames)\n",
    "# Cut frames and insert image\n",
    "for i, frame in enumerate(random_frames):\n",
    "    # Insert image onto frame\n",
    "    frame_height, frame_width, _ = frame.shape\n",
    "    frame, coordinates = utils.insert_image(frame, inserted_image, frame_width, frame_height, bbox_size)\n",
    "\n",
    "    # Save labels and images in yolo format\n",
    "    yolo_format = utils.to_yolo_format(frame_width, frame_height, coordinates)\n",
    "    split = utils.determine_split(i, nb_frames)\n",
    "    utils.add_to_yolo_dataset(frame, split, label_id, label, yolo_format, DATASET_PATH)"
   ]
  },
  {
   "cell_type": "code",
   "execution_count": null,
   "id": "cfdaf4c2-6337-4018-8a7b-e3e76367592b",
   "metadata": {
    "tags": []
   },
   "outputs": [],
   "source": [
    "! tar -czf dataset-full.tar.gz dataset"
   ]
  }
 ],
 "metadata": {
  "kernelspec": {
   "display_name": "Python 3.9",
   "language": "python",
   "name": "python3"
  },
  "language_info": {
   "codemirror_mode": {
    "name": "ipython",
    "version": 3
   },
   "file_extension": ".py",
   "mimetype": "text/x-python",
   "name": "python",
   "nbconvert_exporter": "python",
   "pygments_lexer": "ipython3",
   "version": "3.9.16"
  }
 },
 "nbformat": 4,
 "nbformat_minor": 5
}
