{
 "cells": [
  {
   "cell_type": "code",
   "execution_count": 1,
   "id": "48bf82d2-d6e4-46eb-a109-916c40049be3",
   "metadata": {
    "tags": []
   },
   "outputs": [
    {
     "name": "stdout",
     "output_type": "stream",
     "text": [
      "Requirement already satisfied: opencv-python-headless in /opt/app-root/lib/python3.9/site-packages (4.9.0.80)\n",
      "Requirement already satisfied: numpy>=1.17.0 in /opt/app-root/lib/python3.9/site-packages (from opencv-python-headless) (1.24.4)\n",
      "\n",
      "\u001b[1m[\u001b[0m\u001b[34;49mnotice\u001b[0m\u001b[1;39;49m]\u001b[0m\u001b[39;49m A new release of pip available: \u001b[0m\u001b[31;49m22.2.2\u001b[0m\u001b[39;49m -> \u001b[0m\u001b[32;49m24.0\u001b[0m\n",
      "\u001b[1m[\u001b[0m\u001b[34;49mnotice\u001b[0m\u001b[1;39;49m]\u001b[0m\u001b[39;49m To update, run: \u001b[0m\u001b[32;49mpip install --upgrade pip\u001b[0m\n"
     ]
    }
   ],
   "source": [
    "! pip install opencv-python-headless"
   ]
  },
  {
   "cell_type": "code",
   "execution_count": 2,
   "id": "ec1b3c48-0c56-43e6-9511-e9eafd7f4b08",
   "metadata": {
    "tags": []
   },
   "outputs": [],
   "source": [
    "import boto3\n",
    "import os\n",
    "import json\n",
    "import cv2\n",
    "import numpy as np\n",
    "import urllib.request\n",
    "import yaml"
   ]
  },
  {
   "cell_type": "code",
   "execution_count": 3,
   "id": "e96c1abf-c064-4923-89b5-faf4514ba3dd",
   "metadata": {
    "tags": []
   },
   "outputs": [],
   "source": [
    "AWS_ACCESS_KEY_ID = os.environ.get(\"AWS_ACCESS_KEY_ID\")\n",
    "AWS_SECRET_ACCESS_KEY = os.environ.get(\"AWS_SECRET_ACCESS_KEY\")\n",
    "AWS_S3_BUCKET = os.environ.get(\"AWS_S3_BUCKET\")\n",
    "AWS_S3_ENDPOINT = os.environ.get(\"AWS_S3_ENDPOINT\")\n",
    "\n",
    "DATASET_PATH = \"dataset/\"\n",
    "DATA_CONFIG_PATH = \"utils/data.yaml\"\n",
    "LOCAL_LABEL_FOLDER = \"/tmp/labels/\"\n",
    "TARGET_BUCKET = \"label-studio-sink\"\n",
    "LABEL_STUDIO_SVC = \"http://label-studio-ls-app.label-studio.svc.cluster.local\"\n",
    "\n",
    "session = boto3.Session(\n",
    "    aws_access_key_id=AWS_ACCESS_KEY_ID,\n",
    "    aws_secret_access_key=AWS_SECRET_ACCESS_KEY\n",
    ")\n",
    "client = session.client(\"s3\", endpoint_url=AWS_S3_ENDPOINT)"
   ]
  },
  {
   "cell_type": "code",
   "execution_count": 4,
   "id": "4ac57492-d82c-4c06-908a-451fe4f14543",
   "metadata": {
    "tags": []
   },
   "outputs": [],
   "source": [
    "def generate_dirs():\n",
    "    os.makedirs(DATASET_PATH, exist_ok = True)\n",
    "    os.makedirs(DATASET_PATH + \"labels/train\", exist_ok = True)\n",
    "    os.makedirs(DATASET_PATH + \"labels/test\", exist_ok = True)\n",
    "    os.makedirs(DATASET_PATH + \"labels/val\", exist_ok = True)\n",
    "    os.makedirs(DATASET_PATH + \"images/train\", exist_ok = True)\n",
    "    os.makedirs(DATASET_PATH + \"images/test\", exist_ok = True)\n",
    "    os.makedirs(DATASET_PATH + \"images/val\", exist_ok = True)\n",
    "    os.makedirs(LOCAL_LABEL_FOLDER, exist_ok=True)"
   ]
  },
  {
   "cell_type": "code",
   "execution_count": 5,
   "id": "298d595b-da75-48fd-bd0d-ff51bc3cdef4",
   "metadata": {
    "tags": []
   },
   "outputs": [],
   "source": [
    "def download_folder(bucket_name):\n",
    "    paginator = client.get_paginator('list_objects_v2')\n",
    "    operation_parameters = {'Bucket': bucket_name}\n",
    "    page_iterator = paginator.paginate(**operation_parameters)\n",
    "    for page in page_iterator:\n",
    "        if 'Contents' in page:\n",
    "            for obj in page['Contents']:\n",
    "                key = obj['Key']\n",
    "                client.download_file(bucket_name, key, LOCAL_LABEL_FOLDER + key.split(\"/\")[-1])"
   ]
  },
  {
   "cell_type": "code",
   "execution_count": 6,
   "id": "4a87f03e-3af7-4fee-9b9b-e14383539691",
   "metadata": {
    "tags": []
   },
   "outputs": [],
   "source": [
    "def xyxy_to_yolo(bbox, image_width, image_height):\n",
    "    x1, y1, x2, y2 = bbox\n",
    "    width = x2 - x1\n",
    "    height = y2 - y1\n",
    "    x_center = (x1 + x2) / 2\n",
    "    y_center = (y1 + y2) / 2\n",
    "    # Normalize coordinates by image width and height\n",
    "    x_center /= image_width\n",
    "    y_center /= image_height\n",
    "    width /= image_width\n",
    "    height /= image_height\n",
    "    return x_center, y_center, width, height"
   ]
  },
  {
   "cell_type": "code",
   "execution_count": 7,
   "id": "d057b7e5-41df-47ca-a976-d135bcd49a48",
   "metadata": {
    "tags": []
   },
   "outputs": [],
   "source": [
    "def ls_to_xyxy(bbox, img_w, img_h):\n",
    "    x, y, w, h = bbox\n",
    "    x1 = int(x * img_w)\n",
    "    y1 = int(y * img_h)\n",
    "    x2 = int(x1 + w * img_w)\n",
    "    y2 = int(y1 + h * img_h)\n",
    "    return x1, y1, x2, y2"
   ]
  },
  {
   "cell_type": "code",
   "execution_count": 8,
   "id": "711a107d-2668-4d4f-9d0e-b4e1a1afcfb5",
   "metadata": {
    "tags": []
   },
   "outputs": [],
   "source": [
    "def show_image(uri, bbox):\n",
    "    image_path = \"/\".join(uri.split(\"/\")[3:]) # Get path in s3://BUCKET/path\n",
    "    client.download_file(SOURCE_BUCKET, image_path, \"/tmp/test.jpg\")\n",
    "    image = cv2.imread(\"/tmp/test.jpg\")\n",
    "    img_h, img_w, _ = image.shape\n",
    "    x1, y1, x2, y2 = ls_to_xyxy(bbox, img_w, img_h)\n",
    "    image = cv2.rectangle(image, (x1, y1), (x2, y2), color=(255,0,0), thickness=2)\n",
    "    image_rgb = cv2.cvtColor(image, cv2.COLOR_BGR2RGB)\n",
    "    plt.imshow(image_rgb)"
   ]
  },
  {
   "cell_type": "code",
   "execution_count": 9,
   "id": "71cda70c-e053-40d5-8b0f-8131b820a40f",
   "metadata": {
    "tags": []
   },
   "outputs": [],
   "source": [
    "def add_image_to_dataset(split, uri, bbox, label_name):\n",
    "    image_remote_path = LABEL_STUDIO_SVC + uri\n",
    "    image_name = image_remote_path.split(\"/\")[-1]\n",
    "    image_path = DATASET_PATH + \"images/\" + split + \"/\" + image_name\n",
    "    label_file_name = \".\".join(image_name.split(\".\")[:-1]) + \".txt\"\n",
    "    label_path = DATASET_PATH + \"labels/\" + split + \"/\" + label_file_name\n",
    "    opener = urllib.request.build_opener()\n",
    "    opener.addheaders = [('Authorization', 'Token redhat')]\n",
    "    urllib.request.install_opener(opener)\n",
    "    urllib.request.urlretrieve(image_remote_path, image_path)\n",
    "    image = cv2.imread(image_path)\n",
    "    img_h, img_w, _ = image.shape\n",
    "    bbox_xyxy = ls_to_xyxy(bbox, img_w, img_h)\n",
    "    x, y, w, h = xyxy_to_yolo(bbox_xyxy, img_w, img_h)\n",
    "    with open(DATA_CONFIG_PATH, 'r') as f:\n",
    "        data_config = yaml.safe_load(f)\n",
    "    label_id = list(data_config[\"names\"].keys())[list(data_config[\"names\"].values()).index(label_name)]\n",
    "    label_line = f\"{label_id} {x:.6f} {y:.6f} {w:.6f} {h:.6f}\"\n",
    "    with open(label_path, 'w') as f:\n",
    "        f.write(label_line)"
   ]
  },
  {
   "cell_type": "code",
   "execution_count": 10,
   "id": "a2f3675d-aaf8-44f5-8e8b-d93049e1cf69",
   "metadata": {
    "tags": []
   },
   "outputs": [],
   "source": [
    "def determine_split(i, nb_data):\n",
    "    if nb_data < 5:\n",
    "        split = \"train\"\n",
    "    else:\n",
    "        split = \"train\" if i / nb_data <= 0.9 else \"val\"\n",
    "    return split"
   ]
  },
  {
   "cell_type": "code",
   "execution_count": 11,
   "id": "40fc5e96-e0ac-4cee-b34d-decc987c7497",
   "metadata": {
    "tags": []
   },
   "outputs": [],
   "source": [
    "generate_dirs()\n",
    "download_folder(TARGET_BUCKET)\n",
    "files = [LOCAL_LABEL_FOLDER + label for label in os.listdir(LOCAL_LABEL_FOLDER)]\n",
    "nb_data = len(files)\n",
    "for i, file in enumerate(files):\n",
    "    split = determine_split(i, nb_data)\n",
    "    with open(file) as f:\n",
    "        payload = json.load(f)\n",
    "    image_uri = payload['task']['data']['image']\n",
    "    label_name = payload['result'][0]['value']['rectanglelabels'][0]\n",
    "    bbox = payload['result'][0]['value']\n",
    "    bbox = (bbox['x'] / 100, bbox['y'] / 100, bbox['width'] / 100, bbox['height'] / 100)\n",
    "    # show_image(image_uri, bbox)\n",
    "    add_image_to_dataset(split, image_uri, bbox, label_name)"
   ]
  },
  {
   "cell_type": "code",
   "execution_count": 12,
   "id": "e11ebe43-1240-4526-8c8f-d62f9c73e1fe",
   "metadata": {
    "tags": []
   },
   "outputs": [],
   "source": [
    "! tar -czf dataset.tar.gz dataset"
   ]
  }
 ],
 "metadata": {
  "kernelspec": {
   "display_name": "Python 3.9",
   "language": "python",
   "name": "python3"
  },
  "language_info": {
   "codemirror_mode": {
    "name": "ipython",
    "version": 3
   },
   "file_extension": ".py",
   "mimetype": "text/x-python",
   "name": "python",
   "nbconvert_exporter": "python",
   "pygments_lexer": "ipython3",
   "version": "3.9.16"
  }
 },
 "nbformat": 4,
 "nbformat_minor": 5
}
